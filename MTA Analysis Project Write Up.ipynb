{
 "cells": [
  {
   "cell_type": "markdown",
   "id": "a95189c7",
   "metadata": {},
   "source": [
    "## New York Travel Data Post- Pandemic:"
   ]
  },
  {
   "cell_type": "markdown",
   "id": "b4f3b27e",
   "metadata": {},
   "source": [
    "#### The City of New York is undergoing Urban Planning as the city emerges from the COVID-19 Pandemic (hopefully). As the city comes back to life, the Mayor's office would like to understand the impact the pandemic is having on the Borough of Brooklyn. The Mayor’s office would like to understand changing patterns in Brooklyn resident’s public transport usage when it comes to Subway in the wake of such huge changes to the usability of the line. The city of New York has decided to reach out to engage a data analyst to understand the patterns of both Subway Turnstile data to rightsize where is best to increase subway presence and to understand relative . The question is asked in the following email:\n"
   ]
  },
  {
   "cell_type": "markdown",
   "id": "c50c746e",
   "metadata": {},
   "source": [
    "#### Hello Data Analysts on Demand, \n",
    "    After review of several analytic consultancies in our RFP, we’ve chosen your team as the best fit for providing data driven and actionable insights in engagement with the Mayor’s office. Congratulations! \n",
    "    As discussed during the selection process, with the pandemic slowing in New York City, we are looking to leave a robust Urban planning guide for the new incoming Mayor of New York for the Borough of Brooklyn. With the recent finishing of the L train renovations and it’s positive impact on the transportation trends between the boroughs of Brooklyn and Manhattan we are looking to recommend to the newest Mayor’s office places where improving, slowing, or even adding new subway stations may be of great benefit to the people of Brooklyn.\n",
    "    What kind of insight can you provide on our recommendations on strategic investment in transportation? Should we recommend taxpayer dollars for more subway access? Feel free to let us know if there are further clarifying questions for us and we look forward to the Project proposal in the coming days. \n",
    "#### Best, \n",
    "#### The Mayor’s office of:\n",
    "#### Bill de Blasio\n",
    "![title](Sig.png)"
   ]
  },
  {
   "cell_type": "markdown",
   "id": "748eb24c",
   "metadata": {},
   "source": [
    "## Official Project Write Up"
   ]
  },
  {
   "cell_type": "markdown",
   "id": "1e469c26",
   "metadata": {},
   "source": [
    "#### By: Mallory Banks"
   ]
  },
  {
   "cell_type": "markdown",
   "id": "35260d3f",
   "metadata": {},
   "source": [
    "### Abstract"
   ]
  },
  {
   "cell_type": "markdown",
   "id": "873c2b7b",
   "metadata": {},
   "source": [
    " The goal of this project was to use sql and python to execute an exploratory data analysis of MTA turnstile data in order to help inform the city of New York on the feasibility on the continued investment in and the current usage trends of the L train in New York City. This question is asked on the basis of two major phenomenon effecting the way that the L train is currently being used: 1. The recent completion of the multi-year construction project on the line and 2. The ongoing pandemic and it's effect on ridership. I worked with data provided by the city of New York and used packages availible through python to engage the analysis of this data set."
   ]
  },
  {
   "cell_type": "markdown",
   "id": "d3345bfe",
   "metadata": {},
   "source": [
    "### Design"
   ]
  },
  {
   "cell_type": "markdown",
   "id": "799907ec",
   "metadata": {},
   "source": [
    "This project idea originated from Metis curriculum as apart of the Exploratory Data Analysis module. The project as executed is inspired by the above email suggested the transistioning Mayor's office is looking for a set of recommendations for the incoming mayor around the usage of the L line. The data is publically availbile from the MTA data base maintained by the city of New York. This data is organized by specific turnstiles in the city of New York and was uploaded from raw file into a sql database. "
   ]
  },
  {
   "cell_type": "markdown",
   "id": "83605cfc",
   "metadata": {},
   "source": [
    "### Data"
   ]
  },
  {
   "cell_type": "markdown",
   "id": "eb815b55",
   "metadata": {},
   "source": [
    "The dataset specifically focusing on the L line (once loaded into the sql dataset and connected to python) contained 11 characteristics (variables) with 652,336 instances of these variables. Some points of interest included in this dataset are cumulative entries and exists for each station, the station name, as well as the dates of the MTA traffic.An in depth analysis of all of these characteristics were needed to carry out this project and additional variables were created with these existing data as the base "
   ]
  },
  {
   "cell_type": "markdown",
   "id": "c6d58c36",
   "metadata": {},
   "source": [
    "### Algorithms"
   ]
  },
  {
   "cell_type": "markdown",
   "id": "71583d73",
   "metadata": {},
   "source": [
    "The packages of pandas, matplotlib, and seaborn aided in the re-constucturing of this data set in order to remove duplicates from this dataset, add in date, month, week, and day measures, as well as calculate daily entries for this analysis."
   ]
  },
  {
   "cell_type": "markdown",
   "id": "bf6c31b4",
   "metadata": {},
   "source": [
    "### Tools"
   ]
  },
  {
   "cell_type": "markdown",
   "id": "36b6a3ae",
   "metadata": {},
   "source": [
    "#### Pandas for data manipulation\n",
    "#### Matplotlib and Seaborn for plotting\n",
    "\n"
   ]
  },
  {
   "cell_type": "code",
   "execution_count": null,
   "id": "09608b62",
   "metadata": {},
   "outputs": [],
   "source": []
  }
 ],
 "metadata": {
  "kernelspec": {
   "display_name": "Python 3",
   "language": "python",
   "name": "python3"
  },
  "language_info": {
   "codemirror_mode": {
    "name": "ipython",
    "version": 3
   },
   "file_extension": ".py",
   "mimetype": "text/x-python",
   "name": "python",
   "nbconvert_exporter": "python",
   "pygments_lexer": "ipython3",
   "version": "3.8.10"
  }
 },
 "nbformat": 4,
 "nbformat_minor": 5
}
